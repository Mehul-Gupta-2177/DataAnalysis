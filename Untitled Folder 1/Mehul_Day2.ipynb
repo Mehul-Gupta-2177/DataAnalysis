{
 "cells": [
  {
   "cell_type": "markdown",
   "id": "7a9645ec",
   "metadata": {},
   "source": [
    "# Create a (4*2) dataFrame from list of list , dictionary, list of tuples ."
   ]
  },
  {
   "cell_type": "code",
   "execution_count": 2,
   "id": "056061bf",
   "metadata": {},
   "outputs": [],
   "source": [
    "import pandas as pd\n",
    "data = [{'Name': 'Mehul', 'Age': 21, 'University': 'Tufts'},\n",
    "        {'Name':'Kaustabh', 'Age': 21, 'University': 'UIUC'}] \n",
    "    \n",
    "# Creates DataFrame. \n",
    "dataframe = pd.DataFrame(data) "
   ]
  },
  {
   "cell_type": "code",
   "execution_count": 3,
   "id": "6b14531f",
   "metadata": {},
   "outputs": [
    {
     "data": {
      "text/html": [
       "<div>\n",
       "<style scoped>\n",
       "    .dataframe tbody tr th:only-of-type {\n",
       "        vertical-align: middle;\n",
       "    }\n",
       "\n",
       "    .dataframe tbody tr th {\n",
       "        vertical-align: top;\n",
       "    }\n",
       "\n",
       "    .dataframe thead th {\n",
       "        text-align: right;\n",
       "    }\n",
       "</style>\n",
       "<table border=\"1\" class=\"dataframe\">\n",
       "  <thead>\n",
       "    <tr style=\"text-align: right;\">\n",
       "      <th></th>\n",
       "      <th>Name</th>\n",
       "      <th>Age</th>\n",
       "      <th>University</th>\n",
       "    </tr>\n",
       "  </thead>\n",
       "  <tbody>\n",
       "    <tr>\n",
       "      <th>0</th>\n",
       "      <td>Mehul</td>\n",
       "      <td>21</td>\n",
       "      <td>Tufts</td>\n",
       "    </tr>\n",
       "    <tr>\n",
       "      <th>1</th>\n",
       "      <td>Kaustabh</td>\n",
       "      <td>21</td>\n",
       "      <td>UIUC</td>\n",
       "    </tr>\n",
       "  </tbody>\n",
       "</table>\n",
       "</div>"
      ],
      "text/plain": [
       "       Name  Age University\n",
       "0     Mehul   21      Tufts\n",
       "1  Kaustabh   21       UIUC"
      ]
     },
     "execution_count": 3,
     "metadata": {},
     "output_type": "execute_result"
    }
   ],
   "source": [
    "dataframe"
   ]
  },
  {
   "cell_type": "markdown",
   "id": "54c2fe08",
   "metadata": {},
   "source": [
    "# Read the dataset and find out the various aspects of the dataframe like shape , datatypes,number of null values per column etc ."
   ]
  },
  {
   "cell_type": "code",
   "execution_count": 5,
   "id": "a8c6043b",
   "metadata": {},
   "outputs": [],
   "source": [
    "    file = \"data_demo.xlsx\"\n",
    "    data = pd.read_excel(file) #reading file"
   ]
  },
  {
   "cell_type": "code",
   "execution_count": 7,
   "id": "d9479b9a",
   "metadata": {},
   "outputs": [
    {
     "data": {
      "text/plain": [
       "(30080, 34)"
      ]
     },
     "execution_count": 7,
     "metadata": {},
     "output_type": "execute_result"
    }
   ],
   "source": [
    "data.shape"
   ]
  },
  {
   "cell_type": "code",
   "execution_count": 8,
   "id": "fe81dc71",
   "metadata": {},
   "outputs": [
    {
     "data": {
      "text/plain": [
       "Patient_Id                        int64\n",
       "Claim_Id                        float64\n",
       "Drug_Id                           int64\n",
       "Drug_Name                        object\n",
       "Drug_Group                       object\n",
       "Physician_Id                    float64\n",
       "Plan_Id                           int64\n",
       "Plan_Name                        object\n",
       "Plan_Type                        object\n",
       "Patient_Pay                     float64\n",
       "Plan_Pay                        float64\n",
       "Secondary_Plan_Id               float64\n",
       "Secondary_Plan_Name              object\n",
       "Secondary_Plan_Type              object\n",
       "Secondary_Plan_Pay              float64\n",
       "Patient_Out_Of_Pocket           float64\n",
       "Refill_Code                       int64\n",
       "Quantity                        float64\n",
       "Days_Supply                       int64\n",
       "Sequence_Number                 float64\n",
       "Claim_Status                    float64\n",
       "Reject_Code                     float64\n",
       "Reject_Description              float64\n",
       "New_To_Product                  float64\n",
       "Ptd_final_Claim                 float64\n",
       "NonMarket_Claim                   int64\n",
       "Deletion_Flag                   float64\n",
       "monthYear                        object\n",
       "Rx_Fill_Date             datetime64[ns]\n",
       "firstRecord              datetime64[ns]\n",
       "PreDate                  datetime64[ns]\n",
       "PostDate                 datetime64[ns]\n",
       "Flag                             object\n",
       "Period                           object\n",
       "dtype: object"
      ]
     },
     "execution_count": 8,
     "metadata": {},
     "output_type": "execute_result"
    }
   ],
   "source": [
    "data.dtypes"
   ]
  },
  {
   "cell_type": "code",
   "execution_count": 9,
   "id": "f2f8305d",
   "metadata": {},
   "outputs": [
    {
     "data": {
      "text/plain": [
       "Patient_Id                   0\n",
       "Claim_Id                     0\n",
       "Drug_Id                      0\n",
       "Drug_Name                    0\n",
       "Drug_Group               26122\n",
       "Physician_Id               734\n",
       "Plan_Id                      0\n",
       "Plan_Name                    0\n",
       "Plan_Type                    0\n",
       "Patient_Pay                250\n",
       "Plan_Pay                  9791\n",
       "Secondary_Plan_Id        30033\n",
       "Secondary_Plan_Name      30033\n",
       "Secondary_Plan_Type      30033\n",
       "Secondary_Plan_Pay       30033\n",
       "Patient_Out_Of_Pocket    28911\n",
       "Refill_Code                  0\n",
       "Quantity                     0\n",
       "Days_Supply                  0\n",
       "Sequence_Number          28911\n",
       "Claim_Status             28911\n",
       "Reject_Code              30080\n",
       "Reject_Description       30080\n",
       "New_To_Product           28911\n",
       "Ptd_final_Claim          28911\n",
       "NonMarket_Claim              0\n",
       "Deletion_Flag            29784\n",
       "monthYear                    0\n",
       "Rx_Fill_Date                 0\n",
       "firstRecord                  0\n",
       "PreDate                      0\n",
       "PostDate                     0\n",
       "Flag                         0\n",
       "Period                       0\n",
       "dtype: int64"
      ]
     },
     "execution_count": 9,
     "metadata": {},
     "output_type": "execute_result"
    }
   ],
   "source": [
    "data.isna().sum() # number of null values per column"
   ]
  },
  {
   "cell_type": "code",
   "execution_count": 10,
   "id": "ad990756",
   "metadata": {},
   "outputs": [
    {
     "data": {
      "text/html": [
       "<div>\n",
       "<style scoped>\n",
       "    .dataframe tbody tr th:only-of-type {\n",
       "        vertical-align: middle;\n",
       "    }\n",
       "\n",
       "    .dataframe tbody tr th {\n",
       "        vertical-align: top;\n",
       "    }\n",
       "\n",
       "    .dataframe thead th {\n",
       "        text-align: right;\n",
       "    }\n",
       "</style>\n",
       "<table border=\"1\" class=\"dataframe\">\n",
       "  <thead>\n",
       "    <tr style=\"text-align: right;\">\n",
       "      <th></th>\n",
       "      <th>Patient_Id</th>\n",
       "      <th>Claim_Id</th>\n",
       "      <th>Drug_Id</th>\n",
       "      <th>Physician_Id</th>\n",
       "      <th>Plan_Id</th>\n",
       "      <th>Patient_Pay</th>\n",
       "      <th>Plan_Pay</th>\n",
       "      <th>Secondary_Plan_Id</th>\n",
       "      <th>Secondary_Plan_Pay</th>\n",
       "      <th>Patient_Out_Of_Pocket</th>\n",
       "      <th>...</th>\n",
       "      <th>Quantity</th>\n",
       "      <th>Days_Supply</th>\n",
       "      <th>Sequence_Number</th>\n",
       "      <th>Claim_Status</th>\n",
       "      <th>Reject_Code</th>\n",
       "      <th>Reject_Description</th>\n",
       "      <th>New_To_Product</th>\n",
       "      <th>Ptd_final_Claim</th>\n",
       "      <th>NonMarket_Claim</th>\n",
       "      <th>Deletion_Flag</th>\n",
       "    </tr>\n",
       "  </thead>\n",
       "  <tbody>\n",
       "    <tr>\n",
       "      <th>count</th>\n",
       "      <td>3.008000e+04</td>\n",
       "      <td>3.008000e+04</td>\n",
       "      <td>3.008000e+04</td>\n",
       "      <td>2.934600e+04</td>\n",
       "      <td>30080.000000</td>\n",
       "      <td>29830.000000</td>\n",
       "      <td>20289.000000</td>\n",
       "      <td>47.000000</td>\n",
       "      <td>47.000000</td>\n",
       "      <td>1169.000000</td>\n",
       "      <td>...</td>\n",
       "      <td>30080.000000</td>\n",
       "      <td>30080.000000</td>\n",
       "      <td>1.169000e+03</td>\n",
       "      <td>1169.0</td>\n",
       "      <td>0.0</td>\n",
       "      <td>0.0</td>\n",
       "      <td>1169.000000</td>\n",
       "      <td>1169.000000</td>\n",
       "      <td>30080.000000</td>\n",
       "      <td>296.0</td>\n",
       "    </tr>\n",
       "    <tr>\n",
       "      <th>mean</th>\n",
       "      <td>2.935396e+08</td>\n",
       "      <td>2.582333e+16</td>\n",
       "      <td>3.782169e+05</td>\n",
       "      <td>1.397528e+07</td>\n",
       "      <td>468165.825798</td>\n",
       "      <td>11.056233</td>\n",
       "      <td>124.247394</td>\n",
       "      <td>309486.234043</td>\n",
       "      <td>167.112766</td>\n",
       "      <td>26.134354</td>\n",
       "      <td>...</td>\n",
       "      <td>76.732298</td>\n",
       "      <td>37.248936</td>\n",
       "      <td>2.016958e+07</td>\n",
       "      <td>1.0</td>\n",
       "      <td>NaN</td>\n",
       "      <td>NaN</td>\n",
       "      <td>0.367836</td>\n",
       "      <td>1.622754</td>\n",
       "      <td>0.961137</td>\n",
       "      <td>1.0</td>\n",
       "    </tr>\n",
       "    <tr>\n",
       "      <th>std</th>\n",
       "      <td>2.693285e+08</td>\n",
       "      <td>9.365236e+15</td>\n",
       "      <td>2.479599e+05</td>\n",
       "      <td>1.422043e+07</td>\n",
       "      <td>393511.832566</td>\n",
       "      <td>71.535929</td>\n",
       "      <td>707.480885</td>\n",
       "      <td>341138.746117</td>\n",
       "      <td>152.259646</td>\n",
       "      <td>80.881851</td>\n",
       "      <td>...</td>\n",
       "      <td>227.786864</td>\n",
       "      <td>25.974877</td>\n",
       "      <td>3.024607e+03</td>\n",
       "      <td>0.0</td>\n",
       "      <td>NaN</td>\n",
       "      <td>NaN</td>\n",
       "      <td>0.482423</td>\n",
       "      <td>2.144329</td>\n",
       "      <td>0.193272</td>\n",
       "      <td>0.0</td>\n",
       "    </tr>\n",
       "    <tr>\n",
       "      <th>min</th>\n",
       "      <td>8.257824e+07</td>\n",
       "      <td>1.592960e+16</td>\n",
       "      <td>7.700000e+02</td>\n",
       "      <td>6.257000e+03</td>\n",
       "      <td>4639.000000</td>\n",
       "      <td>0.000000</td>\n",
       "      <td>0.000000</td>\n",
       "      <td>5737.000000</td>\n",
       "      <td>15.000000</td>\n",
       "      <td>0.000000</td>\n",
       "      <td>...</td>\n",
       "      <td>0.500000</td>\n",
       "      <td>1.000000</td>\n",
       "      <td>2.016050e+07</td>\n",
       "      <td>1.0</td>\n",
       "      <td>NaN</td>\n",
       "      <td>NaN</td>\n",
       "      <td>0.000000</td>\n",
       "      <td>1.000000</td>\n",
       "      <td>0.000000</td>\n",
       "      <td>1.0</td>\n",
       "    </tr>\n",
       "    <tr>\n",
       "      <th>25%</th>\n",
       "      <td>1.137256e+08</td>\n",
       "      <td>2.413750e+16</td>\n",
       "      <td>3.019530e+05</td>\n",
       "      <td>8.126750e+05</td>\n",
       "      <td>7287.000000</td>\n",
       "      <td>0.000000</td>\n",
       "      <td>0.650000</td>\n",
       "      <td>5737.000000</td>\n",
       "      <td>25.000000</td>\n",
       "      <td>1.200000</td>\n",
       "      <td>...</td>\n",
       "      <td>30.000000</td>\n",
       "      <td>30.000000</td>\n",
       "      <td>2.017030e+07</td>\n",
       "      <td>1.0</td>\n",
       "      <td>NaN</td>\n",
       "      <td>NaN</td>\n",
       "      <td>0.000000</td>\n",
       "      <td>1.000000</td>\n",
       "      <td>1.000000</td>\n",
       "      <td>1.0</td>\n",
       "    </tr>\n",
       "    <tr>\n",
       "      <th>50%</th>\n",
       "      <td>1.860841e+08</td>\n",
       "      <td>2.587920e+16</td>\n",
       "      <td>3.581330e+05</td>\n",
       "      <td>8.629929e+06</td>\n",
       "      <td>680045.000000</td>\n",
       "      <td>1.750000</td>\n",
       "      <td>5.800000</td>\n",
       "      <td>8867.000000</td>\n",
       "      <td>116.580000</td>\n",
       "      <td>7.790000</td>\n",
       "      <td>...</td>\n",
       "      <td>30.000000</td>\n",
       "      <td>30.000000</td>\n",
       "      <td>2.017050e+07</td>\n",
       "      <td>1.0</td>\n",
       "      <td>NaN</td>\n",
       "      <td>NaN</td>\n",
       "      <td>0.000000</td>\n",
       "      <td>1.000000</td>\n",
       "      <td>1.000000</td>\n",
       "      <td>1.0</td>\n",
       "    </tr>\n",
       "    <tr>\n",
       "      <th>75%</th>\n",
       "      <td>3.589802e+08</td>\n",
       "      <td>2.731665e+16</td>\n",
       "      <td>4.085650e+05</td>\n",
       "      <td>2.785265e+07</td>\n",
       "      <td>840673.000000</td>\n",
       "      <td>7.300000</td>\n",
       "      <td>31.320000</td>\n",
       "      <td>685246.000000</td>\n",
       "      <td>265.500000</td>\n",
       "      <td>25.000000</td>\n",
       "      <td>...</td>\n",
       "      <td>90.000000</td>\n",
       "      <td>30.000000</td>\n",
       "      <td>2.017070e+07</td>\n",
       "      <td>1.0</td>\n",
       "      <td>NaN</td>\n",
       "      <td>NaN</td>\n",
       "      <td>1.000000</td>\n",
       "      <td>1.000000</td>\n",
       "      <td>1.000000</td>\n",
       "      <td>1.0</td>\n",
       "    </tr>\n",
       "    <tr>\n",
       "      <th>max</th>\n",
       "      <td>5.070169e+09</td>\n",
       "      <td>2.728549e+17</td>\n",
       "      <td>1.469681e+06</td>\n",
       "      <td>4.977988e+07</td>\n",
       "      <td>924251.000000</td>\n",
       "      <td>4833.400000</td>\n",
       "      <td>72694.140000</td>\n",
       "      <td>685246.000000</td>\n",
       "      <td>643.300000</td>\n",
       "      <td>894.990000</td>\n",
       "      <td>...</td>\n",
       "      <td>14220.000000</td>\n",
       "      <td>999.000000</td>\n",
       "      <td>2.018010e+07</td>\n",
       "      <td>1.0</td>\n",
       "      <td>NaN</td>\n",
       "      <td>NaN</td>\n",
       "      <td>1.000000</td>\n",
       "      <td>9.000000</td>\n",
       "      <td>1.000000</td>\n",
       "      <td>1.0</td>\n",
       "    </tr>\n",
       "  </tbody>\n",
       "</table>\n",
       "<p>8 rows × 21 columns</p>\n",
       "</div>"
      ],
      "text/plain": [
       "         Patient_Id      Claim_Id       Drug_Id  Physician_Id        Plan_Id  \\\n",
       "count  3.008000e+04  3.008000e+04  3.008000e+04  2.934600e+04   30080.000000   \n",
       "mean   2.935396e+08  2.582333e+16  3.782169e+05  1.397528e+07  468165.825798   \n",
       "std    2.693285e+08  9.365236e+15  2.479599e+05  1.422043e+07  393511.832566   \n",
       "min    8.257824e+07  1.592960e+16  7.700000e+02  6.257000e+03    4639.000000   \n",
       "25%    1.137256e+08  2.413750e+16  3.019530e+05  8.126750e+05    7287.000000   \n",
       "50%    1.860841e+08  2.587920e+16  3.581330e+05  8.629929e+06  680045.000000   \n",
       "75%    3.589802e+08  2.731665e+16  4.085650e+05  2.785265e+07  840673.000000   \n",
       "max    5.070169e+09  2.728549e+17  1.469681e+06  4.977988e+07  924251.000000   \n",
       "\n",
       "        Patient_Pay      Plan_Pay  Secondary_Plan_Id  Secondary_Plan_Pay  \\\n",
       "count  29830.000000  20289.000000          47.000000           47.000000   \n",
       "mean      11.056233    124.247394      309486.234043          167.112766   \n",
       "std       71.535929    707.480885      341138.746117          152.259646   \n",
       "min        0.000000      0.000000        5737.000000           15.000000   \n",
       "25%        0.000000      0.650000        5737.000000           25.000000   \n",
       "50%        1.750000      5.800000        8867.000000          116.580000   \n",
       "75%        7.300000     31.320000      685246.000000          265.500000   \n",
       "max     4833.400000  72694.140000      685246.000000          643.300000   \n",
       "\n",
       "       Patient_Out_Of_Pocket  ...      Quantity   Days_Supply  \\\n",
       "count            1169.000000  ...  30080.000000  30080.000000   \n",
       "mean               26.134354  ...     76.732298     37.248936   \n",
       "std                80.881851  ...    227.786864     25.974877   \n",
       "min                 0.000000  ...      0.500000      1.000000   \n",
       "25%                 1.200000  ...     30.000000     30.000000   \n",
       "50%                 7.790000  ...     30.000000     30.000000   \n",
       "75%                25.000000  ...     90.000000     30.000000   \n",
       "max               894.990000  ...  14220.000000    999.000000   \n",
       "\n",
       "       Sequence_Number  Claim_Status  Reject_Code  Reject_Description  \\\n",
       "count     1.169000e+03        1169.0          0.0                 0.0   \n",
       "mean      2.016958e+07           1.0          NaN                 NaN   \n",
       "std       3.024607e+03           0.0          NaN                 NaN   \n",
       "min       2.016050e+07           1.0          NaN                 NaN   \n",
       "25%       2.017030e+07           1.0          NaN                 NaN   \n",
       "50%       2.017050e+07           1.0          NaN                 NaN   \n",
       "75%       2.017070e+07           1.0          NaN                 NaN   \n",
       "max       2.018010e+07           1.0          NaN                 NaN   \n",
       "\n",
       "       New_To_Product  Ptd_final_Claim  NonMarket_Claim  Deletion_Flag  \n",
       "count     1169.000000      1169.000000     30080.000000          296.0  \n",
       "mean         0.367836         1.622754         0.961137            1.0  \n",
       "std          0.482423         2.144329         0.193272            0.0  \n",
       "min          0.000000         1.000000         0.000000            1.0  \n",
       "25%          0.000000         1.000000         1.000000            1.0  \n",
       "50%          0.000000         1.000000         1.000000            1.0  \n",
       "75%          1.000000         1.000000         1.000000            1.0  \n",
       "max          1.000000         9.000000         1.000000            1.0  \n",
       "\n",
       "[8 rows x 21 columns]"
      ]
     },
     "execution_count": 10,
     "metadata": {},
     "output_type": "execute_result"
    }
   ],
   "source": [
    "data.describe() # basic stats of each column "
   ]
  },
  {
   "cell_type": "code",
   "execution_count": 11,
   "id": "2e6e35d5",
   "metadata": {},
   "outputs": [
    {
     "data": {
      "text/plain": [
       "Patient_Id               30080\n",
       "Claim_Id                 30080\n",
       "Drug_Id                  30080\n",
       "Drug_Name                30080\n",
       "Drug_Group                3958\n",
       "Physician_Id             29346\n",
       "Plan_Id                  30080\n",
       "Plan_Name                30080\n",
       "Plan_Type                30080\n",
       "Patient_Pay              29830\n",
       "Plan_Pay                 20289\n",
       "Secondary_Plan_Id           47\n",
       "Secondary_Plan_Name         47\n",
       "Secondary_Plan_Type         47\n",
       "Secondary_Plan_Pay          47\n",
       "Patient_Out_Of_Pocket     1169\n",
       "Refill_Code              30080\n",
       "Quantity                 30080\n",
       "Days_Supply              30080\n",
       "Sequence_Number           1169\n",
       "Claim_Status              1169\n",
       "Reject_Code                  0\n",
       "Reject_Description           0\n",
       "New_To_Product            1169\n",
       "Ptd_final_Claim           1169\n",
       "NonMarket_Claim          30080\n",
       "Deletion_Flag              296\n",
       "monthYear                30080\n",
       "Rx_Fill_Date             30080\n",
       "firstRecord              30080\n",
       "PreDate                  30080\n",
       "PostDate                 30080\n",
       "Flag                     30080\n",
       "Period                   30080\n",
       "dtype: int64"
      ]
     },
     "execution_count": 11,
     "metadata": {},
     "output_type": "execute_result"
    }
   ],
   "source": [
    "data.count() # number of non null values each column"
   ]
  },
  {
   "cell_type": "code",
   "execution_count": 17,
   "id": "421e43db",
   "metadata": {},
   "outputs": [
    {
     "name": "stderr",
     "output_type": "stream",
     "text": [
      "C:\\Users\\Mehul Gupta\\AppData\\Local\\Temp\\ipykernel_14980\\1089104618.py:1: FutureWarning: Dropping of nuisance columns in DataFrame reductions (with 'numeric_only=None') is deprecated; in a future version this will raise TypeError.  Select only valid columns before calling the reduction.\n",
      "  data.var(axis=0)\n"
     ]
    },
    {
     "data": {
      "text/plain": [
       "Patient_Id               7.253784e+16\n",
       "Claim_Id                 8.770765e+31\n",
       "Drug_Id                  6.148410e+10\n",
       "Physician_Id             2.022206e+14\n",
       "Plan_Id                  1.548516e+11\n",
       "Patient_Pay              5.117389e+03\n",
       "Plan_Pay                 5.005292e+05\n",
       "Secondary_Plan_Id        1.163756e+11\n",
       "Secondary_Plan_Pay       2.318300e+04\n",
       "Patient_Out_Of_Pocket    6.541874e+03\n",
       "Refill_Code              1.388339e+01\n",
       "Quantity                 5.188686e+04\n",
       "Days_Supply              6.746942e+02\n",
       "Sequence_Number          9.148249e+06\n",
       "Claim_Status             0.000000e+00\n",
       "Reject_Code                       NaN\n",
       "Reject_Description                NaN\n",
       "New_To_Product           2.327317e-01\n",
       "Ptd_final_Claim          4.598146e+00\n",
       "NonMarket_Claim          3.735394e-02\n",
       "Deletion_Flag            0.000000e+00\n",
       "dtype: float64"
      ]
     },
     "execution_count": 17,
     "metadata": {},
     "output_type": "execute_result"
    }
   ],
   "source": [
    "data.var(axis=0)"
   ]
  },
  {
   "cell_type": "markdown",
   "id": "7fe9b24a",
   "metadata": {},
   "source": [
    " # Convert ‘firstRecord’ column in dataFrame to a Datetime type column.​"
   ]
  },
  {
   "cell_type": "code",
   "execution_count": 21,
   "id": "3dc17f9d",
   "metadata": {},
   "outputs": [],
   "source": [
    "data['firstRecord'] = pd.to_datetime(data['firstRecord'])"
   ]
  },
  {
   "cell_type": "code",
   "execution_count": 22,
   "id": "49a988e4",
   "metadata": {},
   "outputs": [
    {
     "data": {
      "text/plain": [
       "0       2017-03-01\n",
       "1       2017-03-01\n",
       "2       2017-03-01\n",
       "3       2017-03-01\n",
       "4       2017-03-01\n",
       "           ...    \n",
       "30075   2017-04-06\n",
       "30076   2017-04-06\n",
       "30077   2017-04-06\n",
       "30078   2017-04-06\n",
       "30079   2017-06-08\n",
       "Name: firstRecord, Length: 30080, dtype: datetime64[ns]"
      ]
     },
     "execution_count": 22,
     "metadata": {},
     "output_type": "execute_result"
    }
   ],
   "source": [
    "data['firstRecord']"
   ]
  },
  {
   "cell_type": "markdown",
   "id": "16d71058",
   "metadata": {},
   "source": [
    "# Replace NULL value in ‘Drug_Group’ column with ‘//’."
   ]
  },
  {
   "cell_type": "code",
   "execution_count": 18,
   "id": "158c1ccb",
   "metadata": {},
   "outputs": [],
   "source": [
    "data['Drug_Group']=data['Drug_Group'].fillna('//')"
   ]
  },
  {
   "cell_type": "code",
   "execution_count": 19,
   "id": "3316007f",
   "metadata": {},
   "outputs": [
    {
     "data": {
      "text/plain": [
       "0                    //\n",
       "1                    //\n",
       "2                    //\n",
       "3                    //\n",
       "4                    //\n",
       "              ...      \n",
       "30075                //\n",
       "30076                //\n",
       "30077                //\n",
       "30078    DIURETICS/LOOP\n",
       "30079                //\n",
       "Name: Drug_Group, Length: 30080, dtype: object"
      ]
     },
     "execution_count": 19,
     "metadata": {},
     "output_type": "execute_result"
    }
   ],
   "source": [
    "data['Drug_Group']"
   ]
  },
  {
   "cell_type": "markdown",
   "id": "a0cae9c4",
   "metadata": {},
   "source": [
    "# Convert the format of ‘Rx_Fill_Date’ column to mm/dd/yy."
   ]
  },
  {
   "cell_type": "code",
   "execution_count": 23,
   "id": "279fe801",
   "metadata": {},
   "outputs": [],
   "source": [
    "data[\"Rx_Fill_Date\"] = data[\"Rx_Fill_Date\"].dt.strftime('%m/%d/%y')"
   ]
  },
  {
   "cell_type": "code",
   "execution_count": 24,
   "id": "696e8089",
   "metadata": {},
   "outputs": [
    {
     "data": {
      "text/plain": [
       "0        02/10/17\n",
       "1        06/08/17\n",
       "2        08/25/17\n",
       "3        04/29/17\n",
       "4        06/14/17\n",
       "           ...   \n",
       "30075    05/28/17\n",
       "30076    05/26/17\n",
       "30077    05/27/17\n",
       "30078    05/27/17\n",
       "30079    08/16/17\n",
       "Name: Rx_Fill_Date, Length: 30080, dtype: object"
      ]
     },
     "execution_count": 24,
     "metadata": {},
     "output_type": "execute_result"
    }
   ],
   "source": [
    "data[\"Rx_Fill_Date\"]"
   ]
  },
  {
   "cell_type": "markdown",
   "id": "0b38ecf9",
   "metadata": {},
   "source": [
    "# Create another df containing the rows having ‘Flag’ as ‘All Approved’.​"
   ]
  },
  {
   "cell_type": "code",
   "execution_count": 25,
   "id": "8d82877f",
   "metadata": {},
   "outputs": [],
   "source": [
    "data_temp = data"
   ]
  },
  {
   "cell_type": "code",
   "execution_count": 27,
   "id": "43f03da7",
   "metadata": {},
   "outputs": [
    {
     "data": {
      "text/plain": [
       "0        All Reversals\n",
       "1        All Reversals\n",
       "2        All Reversals\n",
       "3        All Reversals\n",
       "4        All Reversals\n",
       "             ...      \n",
       "30075            Mixed\n",
       "30076            Mixed\n",
       "30077            Mixed\n",
       "30078            Mixed\n",
       "30079     All Approved\n",
       "Name: Flag, Length: 30080, dtype: object"
      ]
     },
     "execution_count": 27,
     "metadata": {},
     "output_type": "execute_result"
    }
   ],
   "source": [
    "data[\"Flag\"]"
   ]
  },
  {
   "cell_type": "code",
   "execution_count": 28,
   "id": "c9de9af7",
   "metadata": {},
   "outputs": [],
   "source": [
    "\n",
    "data_temp['Flag'] = data_temp['Flag'].replace( pd.unique(data_temp['Flag']) , 'All Approved')"
   ]
  },
  {
   "cell_type": "code",
   "execution_count": 29,
   "id": "b564396f",
   "metadata": {},
   "outputs": [
    {
     "data": {
      "text/plain": [
       "0        All Approved\n",
       "1        All Approved\n",
       "2        All Approved\n",
       "3        All Approved\n",
       "4        All Approved\n",
       "             ...     \n",
       "30075    All Approved\n",
       "30076    All Approved\n",
       "30077    All Approved\n",
       "30078    All Approved\n",
       "30079    All Approved\n",
       "Name: Flag, Length: 30080, dtype: object"
      ]
     },
     "execution_count": 29,
     "metadata": {},
     "output_type": "execute_result"
    }
   ],
   "source": [
    "data_temp['Flag']"
   ]
  },
  {
   "cell_type": "markdown",
   "id": "1a9074eb",
   "metadata": {},
   "source": [
    "# Create a column called ‘Duration’ depicting the duration between pre and post dates in seconds."
   ]
  },
  {
   "cell_type": "code",
   "execution_count": 31,
   "id": "9325b78b",
   "metadata": {},
   "outputs": [],
   "source": [
    "data_temp[\"Duration\"] = (data_temp[\"PostDate\"] - data_temp[\"PreDate\"]).dt.total_seconds()"
   ]
  },
  {
   "cell_type": "code",
   "execution_count": 32,
   "id": "4d46737e",
   "metadata": {},
   "outputs": [
    {
     "data": {
      "text/plain": [
       "0        34041600.0\n",
       "1        34041600.0\n",
       "2        34041600.0\n",
       "3        34041600.0\n",
       "4        34041600.0\n",
       "            ...    \n",
       "30075    34128000.0\n",
       "30076    34128000.0\n",
       "30077    34128000.0\n",
       "30078    34128000.0\n",
       "30079    34128000.0\n",
       "Name: Duration, Length: 30080, dtype: float64"
      ]
     },
     "execution_count": 32,
     "metadata": {},
     "output_type": "execute_result"
    }
   ],
   "source": [
    "data_temp[\"Duration\"]"
   ]
  },
  {
   "cell_type": "markdown",
   "id": "c84c8fb2",
   "metadata": {},
   "source": [
    "# Extract the maximum and minimum of all integer ,float and datetime type columns in the dataframe."
   ]
  },
  {
   "cell_type": "code",
   "execution_count": 35,
   "id": "e7be37fd",
   "metadata": {},
   "outputs": [
    {
     "data": {
      "text/plain": [
       "Patient_Id         5070168569\n",
       "Drug_Id               1469681\n",
       "Plan_Id                924251\n",
       "Refill_Code                99\n",
       "Days_Supply               999\n",
       "NonMarket_Claim             1\n",
       "dtype: int64"
      ]
     },
     "execution_count": 35,
     "metadata": {},
     "output_type": "execute_result"
    }
   ],
   "source": [
    "data_temp.select_dtypes(include='int').max()"
   ]
  },
  {
   "cell_type": "code",
   "execution_count": 36,
   "id": "90714deb",
   "metadata": {},
   "outputs": [
    {
     "data": {
      "text/plain": [
       "Patient_Id         82578242\n",
       "Drug_Id                 770\n",
       "Plan_Id                4639\n",
       "Refill_Code               0\n",
       "Days_Supply               1\n",
       "NonMarket_Claim           0\n",
       "dtype: int64"
      ]
     },
     "execution_count": 36,
     "metadata": {},
     "output_type": "execute_result"
    }
   ],
   "source": [
    "data_temp.select_dtypes(include='int').min()"
   ]
  },
  {
   "cell_type": "code",
   "execution_count": 37,
   "id": "402fcc3a",
   "metadata": {},
   "outputs": [
    {
     "data": {
      "text/plain": [
       "Claim_Id                 2.728549e+17\n",
       "Physician_Id             4.977988e+07\n",
       "Patient_Pay              4.833400e+03\n",
       "Plan_Pay                 7.269414e+04\n",
       "Secondary_Plan_Id        6.852460e+05\n",
       "Secondary_Plan_Pay       6.433000e+02\n",
       "Patient_Out_Of_Pocket    8.949900e+02\n",
       "Quantity                 1.422000e+04\n",
       "Sequence_Number          2.018010e+07\n",
       "Claim_Status             1.000000e+00\n",
       "Reject_Code                       NaN\n",
       "Reject_Description                NaN\n",
       "New_To_Product           1.000000e+00\n",
       "Ptd_final_Claim          9.000000e+00\n",
       "Deletion_Flag            1.000000e+00\n",
       "Duration                 3.412800e+07\n",
       "dtype: float64"
      ]
     },
     "execution_count": 37,
     "metadata": {},
     "output_type": "execute_result"
    }
   ],
   "source": [
    "data_temp.select_dtypes(include='float64').max()"
   ]
  },
  {
   "cell_type": "code",
   "execution_count": 38,
   "id": "2ebb67f7",
   "metadata": {},
   "outputs": [
    {
     "data": {
      "text/plain": [
       "Claim_Id                 1.592960e+16\n",
       "Physician_Id             6.257000e+03\n",
       "Patient_Pay              0.000000e+00\n",
       "Plan_Pay                 0.000000e+00\n",
       "Secondary_Plan_Id        5.737000e+03\n",
       "Secondary_Plan_Pay       1.500000e+01\n",
       "Patient_Out_Of_Pocket    0.000000e+00\n",
       "Quantity                 5.000000e-01\n",
       "Sequence_Number          2.016050e+07\n",
       "Claim_Status             1.000000e+00\n",
       "Reject_Code                       NaN\n",
       "Reject_Description                NaN\n",
       "New_To_Product           0.000000e+00\n",
       "Ptd_final_Claim          1.000000e+00\n",
       "Deletion_Flag            1.000000e+00\n",
       "Duration                 3.404160e+07\n",
       "dtype: float64"
      ]
     },
     "execution_count": 38,
     "metadata": {},
     "output_type": "execute_result"
    }
   ],
   "source": [
    "data_temp.select_dtypes(include='float64').min()"
   ]
  },
  {
   "cell_type": "code",
   "execution_count": 39,
   "id": "4a9abeeb",
   "metadata": {},
   "outputs": [
    {
     "data": {
      "text/plain": [
       "firstRecord   2017-07-31\n",
       "PreDate       2017-01-01\n",
       "PostDate      2018-01-31\n",
       "dtype: datetime64[ns]"
      ]
     },
     "execution_count": 39,
     "metadata": {},
     "output_type": "execute_result"
    }
   ],
   "source": [
    "data_temp.select_dtypes(include='datetime64[ns]').max()"
   ]
  },
  {
   "cell_type": "code",
   "execution_count": 40,
   "id": "16f88052",
   "metadata": {},
   "outputs": [
    {
     "data": {
      "text/plain": [
       "firstRecord   2016-11-01\n",
       "PreDate       2016-05-01\n",
       "PostDate      2017-05-31\n",
       "dtype: datetime64[ns]"
      ]
     },
     "execution_count": 40,
     "metadata": {},
     "output_type": "execute_result"
    }
   ],
   "source": [
    "data_temp.select_dtypes(include='datetime64[ns]').min()"
   ]
  },
  {
   "cell_type": "markdown",
   "id": "cb156246",
   "metadata": {},
   "source": [
    "# Convert data in ‘Plan_Name’ column to lowercase."
   ]
  },
  {
   "cell_type": "code",
   "execution_count": 41,
   "id": "85ef64e3",
   "metadata": {},
   "outputs": [],
   "source": [
    "data_temp['Plan_Name'] = data_temp['Plan_Name'].apply(str.lower)"
   ]
  },
  {
   "cell_type": "code",
   "execution_count": 43,
   "id": "37dc54fe",
   "metadata": {},
   "outputs": [
    {
     "data": {
      "text/plain": [
       "0                                horizon medicare rx pdp04\n",
       "1                                horizon medicare rx pdp04\n",
       "2                                horizon medicare rx pdp04\n",
       "3                                horizon medicare rx pdp04\n",
       "4                                horizon medicare rx pdp04\n",
       "                               ...                        \n",
       "30075    medicare limited income newly eligible transit...\n",
       "30076    medicare limited income newly eligible transit...\n",
       "30077    medicare limited income newly eligible transit...\n",
       "30078    medicare limited income newly eligible transit...\n",
       "30079                             humana health plan pdp32\n",
       "Name: Plan_Name, Length: 30080, dtype: object"
      ]
     },
     "execution_count": 43,
     "metadata": {},
     "output_type": "execute_result"
    }
   ],
   "source": [
    "data_temp['Plan_Name']"
   ]
  },
  {
   "cell_type": "markdown",
   "id": "5c7f7638",
   "metadata": {},
   "source": [
    "# Extract the number of NULL values in each column of the data frame.​"
   ]
  },
  {
   "cell_type": "code",
   "execution_count": 44,
   "id": "54c177f9",
   "metadata": {},
   "outputs": [
    {
     "data": {
      "text/plain": [
       "Patient_Id                   0\n",
       "Claim_Id                     0\n",
       "Drug_Id                      0\n",
       "Drug_Name                    0\n",
       "Drug_Group                   0\n",
       "Physician_Id               734\n",
       "Plan_Id                      0\n",
       "Plan_Name                    0\n",
       "Plan_Type                    0\n",
       "Patient_Pay                250\n",
       "Plan_Pay                  9791\n",
       "Secondary_Plan_Id        30033\n",
       "Secondary_Plan_Name      30033\n",
       "Secondary_Plan_Type      30033\n",
       "Secondary_Plan_Pay       30033\n",
       "Patient_Out_Of_Pocket    28911\n",
       "Refill_Code                  0\n",
       "Quantity                     0\n",
       "Days_Supply                  0\n",
       "Sequence_Number          28911\n",
       "Claim_Status             28911\n",
       "Reject_Code              30080\n",
       "Reject_Description       30080\n",
       "New_To_Product           28911\n",
       "Ptd_final_Claim          28911\n",
       "NonMarket_Claim              0\n",
       "Deletion_Flag            29784\n",
       "monthYear                    0\n",
       "Rx_Fill_Date                 0\n",
       "firstRecord                  0\n",
       "PreDate                      0\n",
       "PostDate                     0\n",
       "Flag                         0\n",
       "Period                       0\n",
       "Duration                     0\n",
       "dtype: int64"
      ]
     },
     "execution_count": 44,
     "metadata": {},
     "output_type": "execute_result"
    }
   ],
   "source": [
    "data_temp.isna().sum() # number of null values per column"
   ]
  },
  {
   "cell_type": "code",
   "execution_count": 45,
   "id": "50a4d35e",
   "metadata": {},
   "outputs": [
    {
     "data": {
      "text/plain": [
       "array(['All Approved'], dtype=object)"
      ]
     },
     "execution_count": 45,
     "metadata": {},
     "output_type": "execute_result"
    }
   ],
   "source": [
    "pd.unique(data['Flag'])"
   ]
  },
  {
   "cell_type": "code",
   "execution_count": 46,
   "id": "30d331eb",
   "metadata": {},
   "outputs": [
    {
     "data": {
      "text/plain": [
       "0        All Approved\n",
       "1        All Approved\n",
       "2        All Approved\n",
       "3        All Approved\n",
       "4        All Approved\n",
       "             ...     \n",
       "30075    All Approved\n",
       "30076    All Approved\n",
       "30077    All Approved\n",
       "30078    All Approved\n",
       "30079    All Approved\n",
       "Name: Flag, Length: 30080, dtype: object"
      ]
     },
     "execution_count": 46,
     "metadata": {},
     "output_type": "execute_result"
    }
   ],
   "source": [
    "data[\"Flag\"]"
   ]
  },
  {
   "cell_type": "code",
   "execution_count": 47,
   "id": "f3515528",
   "metadata": {},
   "outputs": [],
   "source": [
    "file = \"data_demo.xlsx\"\n",
    "data_temp_new = pd.read_excel(file) #reading file "
   ]
  },
  {
   "cell_type": "code",
   "execution_count": 48,
   "id": "59e30dd6",
   "metadata": {},
   "outputs": [
    {
     "data": {
      "text/plain": [
       "0        All Reversals\n",
       "1        All Reversals\n",
       "2        All Reversals\n",
       "3        All Reversals\n",
       "4        All Reversals\n",
       "             ...      \n",
       "30075            Mixed\n",
       "30076            Mixed\n",
       "30077            Mixed\n",
       "30078            Mixed\n",
       "30079     All Approved\n",
       "Name: Flag, Length: 30080, dtype: object"
      ]
     },
     "execution_count": 48,
     "metadata": {},
     "output_type": "execute_result"
    }
   ],
   "source": [
    "data_temp_new['Flag']"
   ]
  },
  {
   "cell_type": "code",
   "execution_count": 49,
   "id": "d5fbc908",
   "metadata": {},
   "outputs": [
    {
     "data": {
      "text/plain": [
       "array(['All Reversals', 'All Approved', 'Mixed', 'All Rejected'],\n",
       "      dtype=object)"
      ]
     },
     "execution_count": 49,
     "metadata": {},
     "output_type": "execute_result"
    }
   ],
   "source": [
    "pd.unique(data_temp_new['Flag']) # name of unique values"
   ]
  },
  {
   "cell_type": "code",
   "execution_count": 52,
   "id": "6ecf27cc",
   "metadata": {},
   "outputs": [
    {
     "data": {
      "text/plain": [
       "4"
      ]
     },
     "execution_count": 52,
     "metadata": {},
     "output_type": "execute_result"
    }
   ],
   "source": [
    "len(pd.unique(data_temp_new['Flag'])) # num of unique values"
   ]
  },
  {
   "cell_type": "code",
   "execution_count": 53,
   "id": "9f1c8157",
   "metadata": {},
   "outputs": [
    {
     "data": {
      "text/plain": [
       "All Approved     14478\n",
       "All Rejected      8658\n",
       "All Reversals     3823\n",
       "Mixed             3121\n",
       "Name: Flag, dtype: int64"
      ]
     },
     "execution_count": 53,
     "metadata": {},
     "output_type": "execute_result"
    }
   ],
   "source": [
    "data_temp_new.Flag.value_counts() # number of rows to each unique value"
   ]
  },
  {
   "cell_type": "code",
   "execution_count": null,
   "id": "8374574e",
   "metadata": {},
   "outputs": [],
   "source": [
    "df_category = pd.DataFrame({'team': ['A', 'B', 'C', 'D', 'E', 'F', 'G', 'H', 'I'],"
   ]
  }
 ],
 "metadata": {
  "kernelspec": {
   "display_name": "Python 3 (ipykernel)",
   "language": "python",
   "name": "python3"
  },
  "language_info": {
   "codemirror_mode": {
    "name": "ipython",
    "version": 3
   },
   "file_extension": ".py",
   "mimetype": "text/x-python",
   "name": "python",
   "nbconvert_exporter": "python",
   "pygments_lexer": "ipython3",
   "version": "3.9.12"
  }
 },
 "nbformat": 4,
 "nbformat_minor": 5
}
